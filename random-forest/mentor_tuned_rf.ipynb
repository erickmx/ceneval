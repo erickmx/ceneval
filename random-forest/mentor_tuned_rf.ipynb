{
 "cells": [
  {
   "cell_type": "code",
   "execution_count": 1,
   "metadata": {},
   "outputs": [
    {
     "name": "stdout",
     "output_type": "stream",
     "text": [
      "Using matplotlib backend: Qt5Agg\n"
     ]
    }
   ],
   "source": [
    "import pandas as pd\n",
    "import numpy as np\n",
    "import seaborn as sb\n",
    "from sklearn import tree\n",
    "from sklearn.model_selection import train_test_split\n",
    "from sklearn.ensemble import RandomForestClassifier\n",
    "from sklearn import metrics\n",
    "import random\n",
    "\n",
    "import matplotlib.pyplot as plt\n",
    "\n",
    "%matplotlib"
   ]
  },
  {
   "cell_type": "code",
   "execution_count": 2,
   "metadata": {},
   "outputs": [],
   "source": [
    "df = pd.read_csv(\n",
    "    'ceneval_mentor_v3.csv',\n",
    "    encoding='utf-8',\n",
    "    low_memory=False,\n",
    "    index_col=0\n",
    ")"
   ]
  },
  {
   "cell_type": "code",
   "execution_count": 16,
   "metadata": {},
   "outputs": [],
   "source": [
    "def get_random_params():\n",
    "    return {\n",
    "        \"n_estimators\": random.choice(range(10, 1000, 1)),\n",
    "        \"max_features\": random.choice(range(50, 100, 5)) / 100,\n",
    "        \"max_depth\": random.choice(list(range(1, 100, 1)) + [None]),\n",
    "        \"criterion\": random.choice(['gini','entropy']),\n",
    "        \"n_jobs\": -1\n",
    "    }\n",
    "\n"
   ]
  },
  {
   "cell_type": "code",
   "execution_count": 17,
   "metadata": {},
   "outputs": [],
   "source": [
    "params = [get_random_params() for i in range(1000)]"
   ]
  },
  {
   "cell_type": "code",
   "execution_count": 18,
   "metadata": {},
   "outputs": [],
   "source": [
    "def get_accuracy(df, params):\n",
    "    #print(\"Getting accuracy for:\" + str(params))\n",
    "    x=df.drop([\"DICTAMEN\"], axis=1).values  \n",
    "    y=df['DICTAMEN']  \n",
    "    x_train, x_test, y_train, y_test = train_test_split(x, y, test_size=0.3)\n",
    "    clf=RandomForestClassifier(**params)\n",
    "    clf.fit(x_train, y_train)\n",
    "    y_pred=clf.predict(x_test)\n",
    "    return metrics.accuracy_score(y_test, y_pred)"
   ]
  },
  {
   "cell_type": "code",
   "execution_count": 19,
   "metadata": {},
   "outputs": [],
   "source": [
    "results = [{\"accuracy\": get_accuracy(df, param), **param}  for param in params]"
   ]
  },
  {
   "cell_type": "code",
   "execution_count": 20,
   "metadata": {},
   "outputs": [
    {
     "data": {
      "text/html": [
       "<div>\n",
       "<style scoped>\n",
       "    .dataframe tbody tr th:only-of-type {\n",
       "        vertical-align: middle;\n",
       "    }\n",
       "\n",
       "    .dataframe tbody tr th {\n",
       "        vertical-align: top;\n",
       "    }\n",
       "\n",
       "    .dataframe thead th {\n",
       "        text-align: right;\n",
       "    }\n",
       "</style>\n",
       "<table border=\"1\" class=\"dataframe\">\n",
       "  <thead>\n",
       "    <tr style=\"text-align: right;\">\n",
       "      <th></th>\n",
       "      <th>accuracy</th>\n",
       "      <th>n_estimators</th>\n",
       "      <th>max_features</th>\n",
       "      <th>max_depth</th>\n",
       "      <th>criterion</th>\n",
       "      <th>n_jobs</th>\n",
       "    </tr>\n",
       "  </thead>\n",
       "  <tbody>\n",
       "    <tr>\n",
       "      <td>0</td>\n",
       "      <td>0.709436</td>\n",
       "      <td>823</td>\n",
       "      <td>0.75</td>\n",
       "      <td>98.0</td>\n",
       "      <td>entropy</td>\n",
       "      <td>-1</td>\n",
       "    </tr>\n",
       "    <tr>\n",
       "      <td>1</td>\n",
       "      <td>0.710931</td>\n",
       "      <td>980</td>\n",
       "      <td>0.55</td>\n",
       "      <td>45.0</td>\n",
       "      <td>entropy</td>\n",
       "      <td>-1</td>\n",
       "    </tr>\n",
       "    <tr>\n",
       "      <td>2</td>\n",
       "      <td>0.704953</td>\n",
       "      <td>543</td>\n",
       "      <td>0.75</td>\n",
       "      <td>96.0</td>\n",
       "      <td>entropy</td>\n",
       "      <td>-1</td>\n",
       "    </tr>\n",
       "    <tr>\n",
       "      <td>3</td>\n",
       "      <td>0.711998</td>\n",
       "      <td>654</td>\n",
       "      <td>0.90</td>\n",
       "      <td>99.0</td>\n",
       "      <td>entropy</td>\n",
       "      <td>-1</td>\n",
       "    </tr>\n",
       "    <tr>\n",
       "      <td>4</td>\n",
       "      <td>0.707728</td>\n",
       "      <td>613</td>\n",
       "      <td>0.60</td>\n",
       "      <td>71.0</td>\n",
       "      <td>gini</td>\n",
       "      <td>-1</td>\n",
       "    </tr>\n",
       "    <tr>\n",
       "      <td>...</td>\n",
       "      <td>...</td>\n",
       "      <td>...</td>\n",
       "      <td>...</td>\n",
       "      <td>...</td>\n",
       "      <td>...</td>\n",
       "      <td>...</td>\n",
       "    </tr>\n",
       "    <tr>\n",
       "      <td>995</td>\n",
       "      <td>0.704099</td>\n",
       "      <td>416</td>\n",
       "      <td>0.95</td>\n",
       "      <td>41.0</td>\n",
       "      <td>gini</td>\n",
       "      <td>-1</td>\n",
       "    </tr>\n",
       "    <tr>\n",
       "      <td>996</td>\n",
       "      <td>0.699616</td>\n",
       "      <td>284</td>\n",
       "      <td>0.85</td>\n",
       "      <td>23.0</td>\n",
       "      <td>gini</td>\n",
       "      <td>-1</td>\n",
       "    </tr>\n",
       "    <tr>\n",
       "      <td>997</td>\n",
       "      <td>0.707728</td>\n",
       "      <td>949</td>\n",
       "      <td>0.60</td>\n",
       "      <td>54.0</td>\n",
       "      <td>gini</td>\n",
       "      <td>-1</td>\n",
       "    </tr>\n",
       "    <tr>\n",
       "      <td>998</td>\n",
       "      <td>0.702391</td>\n",
       "      <td>527</td>\n",
       "      <td>0.55</td>\n",
       "      <td>72.0</td>\n",
       "      <td>entropy</td>\n",
       "      <td>-1</td>\n",
       "    </tr>\n",
       "    <tr>\n",
       "      <td>999</td>\n",
       "      <td>0.703459</td>\n",
       "      <td>237</td>\n",
       "      <td>0.50</td>\n",
       "      <td>96.0</td>\n",
       "      <td>entropy</td>\n",
       "      <td>-1</td>\n",
       "    </tr>\n",
       "  </tbody>\n",
       "</table>\n",
       "<p>1000 rows × 6 columns</p>\n",
       "</div>"
      ],
      "text/plain": [
       "     accuracy  n_estimators  max_features  max_depth criterion  n_jobs\n",
       "0    0.709436           823          0.75       98.0   entropy      -1\n",
       "1    0.710931           980          0.55       45.0   entropy      -1\n",
       "2    0.704953           543          0.75       96.0   entropy      -1\n",
       "3    0.711998           654          0.90       99.0   entropy      -1\n",
       "4    0.707728           613          0.60       71.0      gini      -1\n",
       "..        ...           ...           ...        ...       ...     ...\n",
       "995  0.704099           416          0.95       41.0      gini      -1\n",
       "996  0.699616           284          0.85       23.0      gini      -1\n",
       "997  0.707728           949          0.60       54.0      gini      -1\n",
       "998  0.702391           527          0.55       72.0   entropy      -1\n",
       "999  0.703459           237          0.50       96.0   entropy      -1\n",
       "\n",
       "[1000 rows x 6 columns]"
      ]
     },
     "execution_count": 20,
     "metadata": {},
     "output_type": "execute_result"
    }
   ],
   "source": [
    "result_df = pd.DataFrame(results)\n",
    "result_df.to_csv('results_iterations_1000.csv')\n",
    "result_df"
   ]
  },
  {
   "cell_type": "code",
   "execution_count": 21,
   "metadata": {},
   "outputs": [
    {
     "data": {
      "text/plain": [
       "<matplotlib.axes._subplots.AxesSubplot at 0x29d01052ac8>"
      ]
     },
     "execution_count": 21,
     "metadata": {},
     "output_type": "execute_result"
    },
    {
     "data": {
      "image/png": "[encoded data removed]",
      "text/plain": [
       "<Figure size 432x288 with 1 Axes>"
      ]
     },
     "metadata": {
      "needs_background": "light"
     },
     "output_type": "display_data"
    }
   ],
   "source": [
    "result_df.plot.scatter(x=\"max_features\", y=\"accuracy\")"
   ]
  },
  {
   "cell_type": "code",
   "execution_count": 22,
   "metadata": {},
   "outputs": [
    {
     "data": {
      "text/plain": [
       "0.7211784799316823"
      ]
     },
     "execution_count": 22,
     "metadata": {},
     "output_type": "execute_result"
    }
   ],
   "source": [
    "result_df.accuracy.max()"
   ]
  },
  {
   "cell_type": "code",
   "execution_count": 25,
   "metadata": {},
   "outputs": [
    {
     "data": {
      "text/plain": [
       "<matplotlib.axes._subplots.AxesSubplot at 0x29d01a7ee10>"
      ]
     },
     "execution_count": 25,
     "metadata": {},
     "output_type": "execute_result"
    },
    {
     "data": {
      "image/png": "[encoded data removed]",
      "text/plain": [
       "<Figure size 432x288 with 1 Axes>"
      ]
     },
     "metadata": {
      "needs_background": "light"
     },
     "output_type": "display_data"
    }
   ],
   "source": [
    "result_df.plot.scatter(x=\"n_estimators\", y=\"accuracy\")"
   ]
  },
  {
   "cell_type": "code",
   "execution_count": null,
   "metadata": {},
   "outputs": [],
   "source": []
  }
 ],
 "metadata": {
  "kernelspec": {
   "display_name": "Python 3",
   "language": "python",
   "name": "python3"
  },
  "language_info": {
   "codemirror_mode": {
    "name": "ipython",
    "version": 3
   },
   "file_extension": ".py",
   "mimetype": "text/x-python",
   "name": "python",
   "nbconvert_exporter": "python",
   "pygments_lexer": "ipython3",
   "version": "3.7.3"
  }
 },
 "nbformat": 4,
 "nbformat_minor": 2
}
