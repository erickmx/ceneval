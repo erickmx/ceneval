{
 "cells": [
  {
   "cell_type": "code",
   "execution_count": 1,
   "metadata": {},
   "outputs": [],
   "source": [
    "import pandas as pd\n",
    "import numpy as np\n",
    "import matplotlib.pyplot as plt\n",
    "import seaborn as sns"
   ]
  },
  {
   "cell_type": "markdown",
   "metadata": {},
   "source": [
    "# Obtencion de datos"
   ]
  },
  {
   "cell_type": "code",
   "execution_count": 2,
   "metadata": {},
   "outputs": [],
   "source": [
    "df = pd.read_csv('ceneval_mentor_v3.csv')"
   ]
  },
  {
   "cell_type": "code",
   "execution_count": 3,
   "metadata": {},
   "outputs": [
    {
     "data": {
      "text/html": [
       "<div>\n",
       "<style scoped>\n",
       "    .dataframe tbody tr th:only-of-type {\n",
       "        vertical-align: middle;\n",
       "    }\n",
       "\n",
       "    .dataframe tbody tr th {\n",
       "        vertical-align: top;\n",
       "    }\n",
       "\n",
       "    .dataframe thead th {\n",
       "        text-align: right;\n",
       "    }\n",
       "</style>\n",
       "<table border=\"1\" class=\"dataframe\">\n",
       "  <thead>\n",
       "    <tr style=\"text-align: right;\">\n",
       "      <th></th>\n",
       "      <th>Unnamed: 0</th>\n",
       "      <th>TIPO_EXA</th>\n",
       "      <th>ANO_NAC</th>\n",
       "      <th>SEXO</th>\n",
       "      <th>LENG_MA</th>\n",
       "      <th>LENG_PA</th>\n",
       "      <th>PLT_PROC</th>\n",
       "      <th>RAZ_RAPT</th>\n",
       "      <th>RAZ_RACT</th>\n",
       "      <th>RAZ_OPT</th>\n",
       "      <th>...</th>\n",
       "      <th>SER_TVP</th>\n",
       "      <th>SER_TABL</th>\n",
       "      <th>CUARTOS</th>\n",
       "      <th>SER_PC</th>\n",
       "      <th>SER_TV</th>\n",
       "      <th>SER_AUTO</th>\n",
       "      <th>SER_BANO</th>\n",
       "      <th>VAC_RM</th>\n",
       "      <th>DICTAMEN</th>\n",
       "      <th>VECES_EXAM</th>\n",
       "    </tr>\n",
       "  </thead>\n",
       "  <tbody>\n",
       "    <tr>\n",
       "      <th>0</th>\n",
       "      <td>0</td>\n",
       "      <td>0.0077</td>\n",
       "      <td>0.90625</td>\n",
       "      <td>0</td>\n",
       "      <td>0.0</td>\n",
       "      <td>0.0</td>\n",
       "      <td>0.0355</td>\n",
       "      <td>0.0</td>\n",
       "      <td>1.0</td>\n",
       "      <td>1.0</td>\n",
       "      <td>...</td>\n",
       "      <td>1.0</td>\n",
       "      <td>1.0</td>\n",
       "      <td>0.22</td>\n",
       "      <td>1.0</td>\n",
       "      <td>1.0</td>\n",
       "      <td>1.0</td>\n",
       "      <td>1.0</td>\n",
       "      <td>0.0</td>\n",
       "      <td>0</td>\n",
       "      <td>1.0</td>\n",
       "    </tr>\n",
       "    <tr>\n",
       "      <th>1</th>\n",
       "      <td>1</td>\n",
       "      <td>0.0705</td>\n",
       "      <td>1.00000</td>\n",
       "      <td>1</td>\n",
       "      <td>0.0</td>\n",
       "      <td>0.0</td>\n",
       "      <td>0.0900</td>\n",
       "      <td>1.0</td>\n",
       "      <td>0.0</td>\n",
       "      <td>0.0</td>\n",
       "      <td>...</td>\n",
       "      <td>0.0</td>\n",
       "      <td>0.0</td>\n",
       "      <td>0.22</td>\n",
       "      <td>1.0</td>\n",
       "      <td>1.0</td>\n",
       "      <td>1.0</td>\n",
       "      <td>1.0</td>\n",
       "      <td>1.0</td>\n",
       "      <td>0</td>\n",
       "      <td>1.0</td>\n",
       "    </tr>\n",
       "    <tr>\n",
       "      <th>2</th>\n",
       "      <td>2</td>\n",
       "      <td>0.0705</td>\n",
       "      <td>0.90625</td>\n",
       "      <td>0</td>\n",
       "      <td>0.0</td>\n",
       "      <td>0.0</td>\n",
       "      <td>0.0900</td>\n",
       "      <td>1.0</td>\n",
       "      <td>1.0</td>\n",
       "      <td>1.0</td>\n",
       "      <td>...</td>\n",
       "      <td>0.0</td>\n",
       "      <td>0.0</td>\n",
       "      <td>0.41</td>\n",
       "      <td>0.0</td>\n",
       "      <td>1.0</td>\n",
       "      <td>0.0</td>\n",
       "      <td>1.0</td>\n",
       "      <td>0.0</td>\n",
       "      <td>1</td>\n",
       "      <td>1.0</td>\n",
       "    </tr>\n",
       "    <tr>\n",
       "      <th>3</th>\n",
       "      <td>3</td>\n",
       "      <td>0.0705</td>\n",
       "      <td>1.00000</td>\n",
       "      <td>1</td>\n",
       "      <td>0.0</td>\n",
       "      <td>0.0</td>\n",
       "      <td>0.0900</td>\n",
       "      <td>1.0</td>\n",
       "      <td>1.0</td>\n",
       "      <td>1.0</td>\n",
       "      <td>...</td>\n",
       "      <td>1.0</td>\n",
       "      <td>1.0</td>\n",
       "      <td>0.41</td>\n",
       "      <td>1.0</td>\n",
       "      <td>1.0</td>\n",
       "      <td>0.0</td>\n",
       "      <td>1.0</td>\n",
       "      <td>1.0</td>\n",
       "      <td>1</td>\n",
       "      <td>1.0</td>\n",
       "    </tr>\n",
       "    <tr>\n",
       "      <th>4</th>\n",
       "      <td>4</td>\n",
       "      <td>0.0705</td>\n",
       "      <td>0.84375</td>\n",
       "      <td>0</td>\n",
       "      <td>0.0</td>\n",
       "      <td>0.0</td>\n",
       "      <td>0.0900</td>\n",
       "      <td>1.0</td>\n",
       "      <td>1.0</td>\n",
       "      <td>1.0</td>\n",
       "      <td>...</td>\n",
       "      <td>0.0</td>\n",
       "      <td>0.0</td>\n",
       "      <td>0.22</td>\n",
       "      <td>1.0</td>\n",
       "      <td>1.0</td>\n",
       "      <td>0.0</td>\n",
       "      <td>1.0</td>\n",
       "      <td>0.0</td>\n",
       "      <td>1</td>\n",
       "      <td>1.0</td>\n",
       "    </tr>\n",
       "  </tbody>\n",
       "</table>\n",
       "<p>5 rows × 120 columns</p>\n",
       "</div>"
      ],
      "text/plain": [
       "   Unnamed: 0  TIPO_EXA  ANO_NAC  SEXO  LENG_MA  LENG_PA  PLT_PROC  RAZ_RAPT  \\\n",
       "0           0    0.0077  0.90625     0      0.0      0.0    0.0355       0.0   \n",
       "1           1    0.0705  1.00000     1      0.0      0.0    0.0900       1.0   \n",
       "2           2    0.0705  0.90625     0      0.0      0.0    0.0900       1.0   \n",
       "3           3    0.0705  1.00000     1      0.0      0.0    0.0900       1.0   \n",
       "4           4    0.0705  0.84375     0      0.0      0.0    0.0900       1.0   \n",
       "\n",
       "   RAZ_RACT  RAZ_OPT  ...  SER_TVP  SER_TABL  CUARTOS  SER_PC  SER_TV  \\\n",
       "0       1.0      1.0  ...      1.0       1.0     0.22     1.0     1.0   \n",
       "1       0.0      0.0  ...      0.0       0.0     0.22     1.0     1.0   \n",
       "2       1.0      1.0  ...      0.0       0.0     0.41     0.0     1.0   \n",
       "3       1.0      1.0  ...      1.0       1.0     0.41     1.0     1.0   \n",
       "4       1.0      1.0  ...      0.0       0.0     0.22     1.0     1.0   \n",
       "\n",
       "   SER_AUTO  SER_BANO  VAC_RM  DICTAMEN  VECES_EXAM  \n",
       "0       1.0       1.0     0.0         0         1.0  \n",
       "1       1.0       1.0     1.0         0         1.0  \n",
       "2       0.0       1.0     0.0         1         1.0  \n",
       "3       0.0       1.0     1.0         1         1.0  \n",
       "4       0.0       1.0     0.0         1         1.0  \n",
       "\n",
       "[5 rows x 120 columns]"
      ]
     },
     "execution_count": 3,
     "metadata": {},
     "output_type": "execute_result"
    }
   ],
   "source": [
    "df.head()"
   ]
  },
  {
   "cell_type": "code",
   "execution_count": 4,
   "metadata": {},
   "outputs": [
    {
     "data": {
      "text/plain": [
       "\"'Unnamed: 0','TIPO_EXA','ANO_NAC','SEXO','LENG_MA','LENG_PA','PLT_PROC','RAZ_RAPT','RAZ_RACT','RAZ_OPT','RAZ_PCUM','RAZ_CMNF','REG_PROC','PRO_LIC','BECA_DAC','BECA_NEC','OPI_NIVE','OPI_SLC','OPI_SERI','OPI_NIBA','OPI_ARM','COM_ESES','COM_ESMA','COM_ESAE','COM_EPAD','FOPR_ASAC','FOPR_TUTO','FOPR_APPS','FOPR_PRMO','FOPR_ELEX','FOPR_CLEX','FOPR_AULA','FOPR_LATA','FOPR_BIBL','FOPR_SACO','FOPR_CAFE','FOPR_ESDE','FOPR_SDTE','FOPR_ACIN','FOPR_ACEL','FOPR_ABRE','FOPR_BOTR','FOPR_LIMP','FOME_PECR','FOME_APAU','FOME_CARE','FOME_FOPR','FOME_FOTE','FOME_EXOR','FOME_EXES','FOME_IDEX','FOME_MDLT','FOME_HBSI','FOME_ABOR','FOME_ABRP','FOME_VCDE','FOME_LIDE','FOME_CMPP','FOME_TODE','FOME_TRCO','FOME_CUGE','FOME_REIN','FOME_EOAD','FOME_CANE','FOME_FTGP','FOME_RESO','FOME_COET','FOME_CECC','FOME_CCMA','MAE_DMAT','MAE_UEDA','MAE_ASIS','MAE_CLAP','MAE_PPDE','MAE_TAR','MAE_RET','MAE_HEC','MAE_FAC','MAE_ICC','MAE_VNC','MAE_DCO','MAE_ICI','MAE_RDE','MAE_EIC','MAE_FIN','PRA_PROF','PRPF_AACA','PRPF_MPNC','PRPF_MAET','SER_MAAC','SER_MPNC','SER_MAET','TIEM_TRAB','SEMA_TRAB','INS_TRAB','HRS_TRAB','REL_TRA','EVA_ETRA','GAN_CLIC','SIT_LAB','ESC_MAD','ESC_PAD','CUAN_LIB','NIV_EDU','CPV_CASA','SER_TELE','SER_LAV','SER_REF','SER_HOR','SER_INTE','SER_TVP','SER_TABL','CUARTOS','SER_PC','SER_TV','SER_AUTO','SER_BANO','VAC_RM','DICTAMEN','VECES_EXAM',\""
      ]
     },
     "execution_count": 4,
     "metadata": {},
     "output_type": "execute_result"
    }
   ],
   "source": [
    "arr = df.columns\n",
    "string = \"\";\n",
    "for item in arr:\n",
    "    string +=\"'\"+item+\"'\"+\",\"\n",
    "string"
   ]
  },
  {
   "cell_type": "code",
   "execution_count": 5,
   "metadata": {},
   "outputs": [
    {
     "data": {
      "text/plain": [
       "<matplotlib.axes._subplots.AxesSubplot at 0x1981c4ab358>"
      ]
     },
     "execution_count": 5,
     "metadata": {},
     "output_type": "execute_result"
    },
    {
     "data": {
      "image/png": "[encoded data removed]",
      "text/plain": [
       "<Figure size 432x288 with 1 Axes>"
      ]
     },
     "metadata": {
      "needs_background": "light"
     },
     "output_type": "display_data"
    }
   ],
   "source": [
    "sns.distplot(df['DICTAMEN'])"
   ]
  },
  {
   "cell_type": "code",
   "execution_count": 6,
   "metadata": {},
   "outputs": [
    {
     "data": {
      "text/plain": [
       "<matplotlib.axes._subplots.AxesSubplot at 0x1981c8560f0>"
      ]
     },
     "execution_count": 6,
     "metadata": {},
     "output_type": "execute_result"
    },
    {
     "data": {
      "image/png": "[encoded data removed]",
      "text/plain": [
       "<Figure size 432x288 with 2 Axes>"
      ]
     },
     "metadata": {
      "needs_background": "light"
     },
     "output_type": "display_data"
    }
   ],
   "source": [
    "sns.heatmap(df.corr())"
   ]
  },
  {
   "cell_type": "code",
   "execution_count": 7,
   "metadata": {},
   "outputs": [],
   "source": [
    "from sklearn.model_selection import train_test_split\n",
    "from sklearn.linear_model import LinearRegression"
   ]
  },
  {
   "cell_type": "markdown",
   "metadata": {},
   "source": [
    "# 'Y' sera la variable objetivo, es decir lo que queremos predecir , en este caso es el precio lo que queremos predecir"
   ]
  },
  {
   "cell_type": "markdown",
   "metadata": {},
   "source": [
    "# 'X' seran todas las caracteristicas"
   ]
  },
  {
   "cell_type": "code",
   "execution_count": 8,
   "metadata": {},
   "outputs": [],
   "source": [
    "X = df[['TIPO_EXA','ANO_NAC','SEXO','LENG_MA','LENG_PA','PLT_PROC','RAZ_RAPT','RAZ_RACT','RAZ_OPT','RAZ_PCUM','RAZ_CMNF','REG_PROC','PRO_LIC','BECA_DAC','BECA_NEC','OPI_NIVE','OPI_SLC','OPI_SERI','OPI_NIBA','OPI_ARM','COM_ESES','COM_ESMA','COM_ESAE','COM_EPAD','FOPR_ASAC','FOPR_TUTO','FOPR_APPS','FOPR_PRMO','FOPR_ELEX','FOPR_CLEX','FOPR_AULA','FOPR_LATA','FOPR_BIBL','FOPR_SACO','FOPR_CAFE','FOPR_ESDE','FOPR_SDTE','FOPR_ACIN','FOPR_ACEL','FOPR_ABRE','FOPR_BOTR','FOPR_LIMP','FOME_PECR','FOME_APAU','FOME_CARE','FOME_FOPR','FOME_FOTE','FOME_EXOR','FOME_EXES','FOME_IDEX','FOME_MDLT','FOME_HBSI','FOME_ABOR','FOME_ABRP','FOME_VCDE','FOME_LIDE','FOME_CMPP','FOME_TODE','FOME_TRCO','FOME_CUGE','FOME_REIN','FOME_EOAD','FOME_CANE','FOME_FTGP','FOME_RESO','FOME_COET','FOME_CECC','FOME_CCMA','MAE_DMAT','MAE_UEDA','MAE_ASIS','MAE_CLAP','MAE_PPDE','MAE_TAR','MAE_RET','MAE_HEC','MAE_FAC','MAE_ICC','MAE_VNC','MAE_DCO','MAE_ICI','MAE_RDE','MAE_EIC','MAE_FIN','PRA_PROF','PRPF_AACA','PRPF_MPNC','PRPF_MAET','SER_MAAC','SER_MPNC','SER_MAET','TIEM_TRAB','SEMA_TRAB','INS_TRAB','HRS_TRAB','REL_TRA','EVA_ETRA','GAN_CLIC','SIT_LAB','ESC_MAD','ESC_PAD','CUAN_LIB','NIV_EDU','CPV_CASA','SER_TELE','SER_LAV','SER_REF','SER_HOR','SER_INTE','SER_TVP','SER_TABL','CUARTOS','SER_PC','SER_TV','SER_AUTO','SER_BANO','VAC_RM','VECES_EXAM']]"
   ]
  },
  {
   "cell_type": "code",
   "execution_count": 9,
   "metadata": {},
   "outputs": [],
   "source": [
    "Y =df['DICTAMEN']"
   ]
  },
  {
   "cell_type": "markdown",
   "metadata": {},
   "source": [
    "# Se dividen los datos de entrenamiento de los datos de prueba\n",
    "\n",
    "Creamos 4 variables 2 para entrenamiento una para Y y una X, y de igual manera dos para pruebas.\n",
    "\n",
    "Para que el modelo se entrene bien le designamos el 70%, y el 30% lo usaremos para probar el modelo.\n",
    "\n",
    "Despues le indicamos que recoja de forma aleatoria los datos."
   ]
  },
  {
   "cell_type": "code",
   "execution_count": 10,
   "metadata": {},
   "outputs": [],
   "source": [
    "X_TRAIN, X_TEST, Y_TRAIN, Y_TEST = train_test_split(X,Y, test_size=0.3,random_state=42)"
   ]
  },
  {
   "cell_type": "markdown",
   "metadata": {},
   "source": [
    "# Modelo de entranamiento"
   ]
  },
  {
   "cell_type": "code",
   "execution_count": 11,
   "metadata": {},
   "outputs": [
    {
     "data": {
      "text/plain": [
       "LinearRegression(copy_X=True, fit_intercept=True, n_jobs=None, normalize=False)"
      ]
     },
     "execution_count": 11,
     "metadata": {},
     "output_type": "execute_result"
    }
   ],
   "source": [
    "lrm = LinearRegression()\n",
    "lrm.fit(X_TRAIN,Y_TRAIN)"
   ]
  },
  {
   "cell_type": "markdown",
   "metadata": {},
   "source": [
    "# Modelo de pruebas"
   ]
  },
  {
   "cell_type": "code",
   "execution_count": 12,
   "metadata": {},
   "outputs": [],
   "source": [
    "from sklearn import metrics\n",
    "predicciones = lrm.predict(X_TEST)"
   ]
  },
  {
   "cell_type": "code",
   "execution_count": 13,
   "metadata": {},
   "outputs": [],
   "source": [
    "countGood = 0\n",
    "countBad = 0\n",
    "for i in predicciones:\n",
    "    for j in Y_TEST:\n",
    "        n = \"{0:.0f}\".format(i)\n",
    "        v1=0\n",
    "        v2=0\n",
    "        if(j == 0):\n",
    "            v1 = 0\n",
    "        else:\n",
    "            v1 = 1\n",
    "        if(n == 0):\n",
    "            v2 = 0\n",
    "        else:\n",
    "            v2 = 1\n",
    "        if(v1 == v2 ):\n",
    "            countGood = countGood+1\n",
    "        else:\n",
    "            countBad = countBad+1\n",
    "        #print(str(n) + \" : \"+ str(j))"
   ]
  },
  {
   "cell_type": "code",
   "execution_count": 14,
   "metadata": {},
   "outputs": [
    {
     "data": {
      "text/plain": [
       "11560112"
      ]
     },
     "execution_count": 14,
     "metadata": {},
     "output_type": "execute_result"
    }
   ],
   "source": [
    "countGood"
   ]
  },
  {
   "cell_type": "code",
   "execution_count": 15,
   "metadata": {},
   "outputs": [
    {
     "data": {
      "text/plain": [
       "10379744"
      ]
     },
     "execution_count": 15,
     "metadata": {},
     "output_type": "execute_result"
    }
   ],
   "source": [
    "countBad"
   ]
  },
  {
   "cell_type": "code",
   "execution_count": 22,
   "metadata": {},
   "outputs": [],
   "source": [
    "#Y_TEST"
   ]
  },
  {
   "cell_type": "markdown",
   "metadata": {},
   "source": [
    "# Generamos un grafico del tipo scatter para ver la diferencia entres las predicciones y los valores reales"
   ]
  },
  {
   "cell_type": "code",
   "execution_count": 17,
   "metadata": {},
   "outputs": [
    {
     "data": {
      "text/plain": [
       "<matplotlib.collections.PathCollection at 0x1981ee9b400>"
      ]
     },
     "execution_count": 17,
     "metadata": {},
     "output_type": "execute_result"
    },
    {
     "data": {
      "image/png": "[encoded data removed]",
      "text/plain": [
       "<Figure size 432x288 with 1 Axes>"
      ]
     },
     "metadata": {
      "needs_background": "light"
     },
     "output_type": "display_data"
    }
   ],
   "source": [
    "plt.scatter(Y_TEST,predicciones)"
   ]
  },
  {
   "cell_type": "markdown",
   "metadata": {},
   "source": [
    "# Histograma\n"
   ]
  },
  {
   "cell_type": "code",
   "execution_count": 18,
   "metadata": {},
   "outputs": [
    {
     "data": {
      "text/plain": [
       "<matplotlib.axes._subplots.AxesSubplot at 0x1981eed4908>"
      ]
     },
     "execution_count": 18,
     "metadata": {},
     "output_type": "execute_result"
    },
    {
     "data": {
      "image/png": "[encoded data removed]",
      "text/plain": [
       "<Figure size 432x288 with 1 Axes>"
      ]
     },
     "metadata": {
      "needs_background": "light"
     },
     "output_type": "display_data"
    }
   ],
   "source": [
    "sns.distplot(Y_TEST - predicciones)"
   ]
  },
  {
   "cell_type": "markdown",
   "metadata": {},
   "source": [
    "# Metricas para evaluar el modelo\n",
    "MAE (Mean absolute error) - Media del valor absoluto de los errores"
   ]
  },
  {
   "cell_type": "code",
   "execution_count": 19,
   "metadata": {},
   "outputs": [
    {
     "data": {
      "text/plain": [
       "0.4318966842374635"
      ]
     },
     "execution_count": 19,
     "metadata": {},
     "output_type": "execute_result"
    }
   ],
   "source": [
    "# Entre menor sea el numero, mejor es el modelo.\n",
    "metrics.mean_absolute_error(Y_TEST,predicciones)"
   ]
  },
  {
   "cell_type": "markdown",
   "metadata": {},
   "source": [
    "MSE (MEDIA DE LOS ERROES AL CUADRADO)"
   ]
  },
  {
   "cell_type": "code",
   "execution_count": 20,
   "metadata": {},
   "outputs": [
    {
     "data": {
      "text/plain": [
       "0.22000813651027076"
      ]
     },
     "execution_count": 20,
     "metadata": {},
     "output_type": "execute_result"
    }
   ],
   "source": [
    "metrics.mean_squared_error(Y_TEST,predicciones)"
   ]
  },
  {
   "cell_type": "markdown",
   "metadata": {},
   "source": [
    "RMS (raiz cuadrada de la media de los errores al cuadrado)"
   ]
  },
  {
   "cell_type": "code",
   "execution_count": 21,
   "metadata": {},
   "outputs": [
    {
     "data": {
      "text/plain": [
       "0.4690502494512403"
      ]
     },
     "execution_count": 21,
     "metadata": {},
     "output_type": "execute_result"
    }
   ],
   "source": [
    "np.sqrt(metrics.mean_squared_error(Y_TEST,predicciones))"
   ]
  },
  {
   "cell_type": "code",
   "execution_count": null,
   "metadata": {},
   "outputs": [],
   "source": []
  }
 ],
 "metadata": {
  "kernelspec": {
   "display_name": "Python 3",
   "language": "python",
   "name": "python3"
  },
  "language_info": {
   "codemirror_mode": {
    "name": "ipython",
    "version": 3
   },
   "file_extension": ".py",
   "mimetype": "text/x-python",
   "name": "python",
   "nbconvert_exporter": "python",
   "pygments_lexer": "ipython3",
   "version": "3.7.3"
  }
 },
 "nbformat": 4,
 "nbformat_minor": 2
}
