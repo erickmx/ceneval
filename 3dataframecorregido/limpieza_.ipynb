{
 "cells": [
  {
   "cell_type": "code",
   "execution_count": 6,
   "metadata": {},
   "outputs": [],
   "source": [
    "import numpy as np\n",
    "import pandas as pd\n",
    "%matplotlib inline\n",
    "import seaborn as sns\n",
    "from pandas import ExcelWriter\n",
    "import os\n",
    "import io\n",
    "import requests\n"
   ]
  },
  {
   "cell_type": "code",
   "execution_count": null,
   "metadata": {},
   "outputs": [],
   "source": [
    "#direccion donde esta alojado el data set\n",
    "url=\"https://raw.githubusercontent.com/ricnef2121/ceneval/master/2dataframelimpioCompleto/ceneval.csv\"\n",
    "# obtenemos el contenido de la url mediante una peticion get\n",
    "s=requests.get(url).content\n",
    "#transaformamos el contenido en un dataframe\n",
    "c=pd.read_csv(io.StringIO(s.decode('utf-8')))\n",
    "#generamos un listado de las columnas que contengan NaN\n",
    "f = c.columns[c.isna().any()].tolist()\n",
    "#existen dos tipos de datos diferentes entre las columnas que contienen NaN\n",
    "#tipo float y tipo object\n",
    "#separamos los tipo object en un arreglo para posteriormente volver a filtrarlos\n",
    "obj = []\n",
    "#iteramos por cada elemnto de la lisa de NaN\n",
    "for i in f:\n",
    "    #si el elemento es del tipo object lo agregamo a la lista de objects\n",
    "    if(c[i].dtype == object):\n",
    "        #print(c[i].dtype)\n",
    "        c[i].fillna(0, inplace=True)\n",
    "        obj.append(i)\n",
    "        #c[i].fillna(c[i].mean())\n",
    "        #c=c.dropna(subset=[i])\n",
    "        #si no\n",
    "    else:\n",
    "        #como es del tipo float sustituimos el NaN por un cero\n",
    "        #c=c.dropna(subset=[i])\n",
    "        c[i].fillna(0, inplace=True)\n",
    "        #print(c[i].unique)\n",
    "        \n",
    "#c.PERFIL.unique()\n",
    "# obtenemos los valores que no se repiten de las columna que son del tipo object\n",
    "for n in obj:\n",
    "    dd = c[n].unique()\n",
    "    #print(n+str(dd))\n",
    "#c[f]\n",
    "# ya que solo la columna A4 contiene string procedemos a eliminarla\n",
    "# y como las demas columns contiene numeros procedemos a cambiar el tipo de valor de la columna\n",
    "# a tipo entero para sustituir los NaN por ceros tambien\n",
    "c = c.drop(['A4'], axis=1)\n",
    "for m in obj:\n",
    "    if(m != \"A4\"):\n",
    "        c[m] = pd.to_numeric(c[m], errors='coerce')\n",
    "        #print(c[m])\n",
    "#comprobamos que las columna ya no sean del tipo object\n",
    "for m in obj:\n",
    "    if(m != \"A4\"):\n",
    "        print(c[m].dtype)\n",
    "#verificamos nuevamnete que no haya columnas con datos NaN\n",
    "h = c.columns[c.isna().any()].tolist()\n",
    "# por cada elemento encontrado\n",
    "#iteramos sobre sus columna y rellenamos los datos nan con ceros\n",
    "for nn in h:\n",
    "    c[nn].fillna(0, inplace=True)\n",
    "#volvemos a comprobara que ya no existan columnas con datos NaN\n",
    "k = c.columns[c.isna().any()].tolist()\n",
    "#el resultado es un arreglo vacio ya que ya no datos NaN\n",
    "k\n",
    "#EL DATASET final quedaria asi\n",
    "c\n",
    "#generamos el nuevo archivo csv\n",
    "df.to_csv('ceneval_limpio_3.csv')\n"
   ]
  },
  {
   "cell_type": "code",
   "execution_count": null,
   "metadata": {},
   "outputs": [],
   "source": []
  },
  {
   "cell_type": "code",
   "execution_count": null,
   "metadata": {},
   "outputs": [],
   "source": []
  }
 ],
 "metadata": {
  "kernelspec": {
   "display_name": "Python 3",
   "language": "python",
   "name": "python3"
  },
  "language_info": {
   "codemirror_mode": {
    "name": "ipython",
    "version": 3
   },
   "file_extension": ".py",
   "mimetype": "text/x-python",
   "name": "python",
   "nbconvert_exporter": "python",
   "pygments_lexer": "ipython3",
   "version": "3.7.3"
  }
 },
 "nbformat": 4,
 "nbformat_minor": 4
}
